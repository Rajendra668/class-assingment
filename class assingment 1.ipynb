{
 "cells": [
  {
   "cell_type": "code",
   "execution_count": 1,
   "id": "addc591d",
   "metadata": {},
   "outputs": [
    {
     "name": "stdout",
     "output_type": "stream",
     "text": [
      "Hello from Fun\n"
     ]
    }
   ],
   "source": [
    "def Fun():\n",
    "    print(\"Hello from Fun\")\n",
    "\n",
    "# Call the Fun() function\n",
    "Fun()\n"
   ]
  },
  {
   "cell_type": "code",
   "execution_count": 2,
   "id": "15cb0c97",
   "metadata": {},
   "outputs": [
    {
     "name": "stdout",
     "output_type": "stream",
     "text": [
      "Even number\n",
      "Odd number\n",
      "Even number\n"
     ]
    }
   ],
   "source": [
    "def ChkNum(number):\n",
    "    if number % 2 == 0:\n",
    "        print(\"Even number\")\n",
    "    else:\n",
    "        print(\"Odd number\")\n",
    "\n",
    "# Call the ChkNum() function with different numbers\n",
    "ChkNum(4)\n",
    "ChkNum(7)\n",
    "ChkNum(0)\n"
   ]
  },
  {
   "cell_type": "code",
   "execution_count": 3,
   "id": "3a026150",
   "metadata": {},
   "outputs": [
    {
     "name": "stdout",
     "output_type": "stream",
     "text": [
      "Enter the first number: 1\n",
      "Enter the second number: 2\n",
      "The sum is: 3.0\n"
     ]
    }
   ],
   "source": [
    "def Add():\n",
    "    num1 = float(input(\"Enter the first number: \"))\n",
    "    num2 = float(input(\"Enter the second number: \"))\n",
    "    result = num1 + num2\n",
    "    return result\n",
    "\n",
    "# Call the Add() function and store the result\n",
    "sum_of_numbers = Add()\n",
    "\n",
    "# Display the result\n",
    "print(\"The sum is:\", sum_of_numbers)\n"
   ]
  },
  {
   "cell_type": "code",
   "execution_count": 4,
   "id": "1e40b0e9",
   "metadata": {},
   "outputs": [
    {
     "name": "stdout",
     "output_type": "stream",
     "text": [
      "Marvelous\n",
      "Marvelous\n",
      "Marvelous\n",
      "Marvelous\n",
      "Marvelous\n"
     ]
    }
   ],
   "source": [
    "def display_marvelous():\n",
    "    for _ in range(5):\n",
    "        print(\"Marvelous\")\n",
    "\n",
    "# Call the display_marvelous() function\n",
    "display_marvelous()\n"
   ]
  },
  {
   "cell_type": "code",
   "execution_count": 5,
   "id": "8af91bb9",
   "metadata": {},
   "outputs": [
    {
     "name": "stdout",
     "output_type": "stream",
     "text": [
      "10\n",
      "9\n",
      "8\n",
      "7\n",
      "6\n",
      "5\n",
      "4\n",
      "3\n",
      "2\n",
      "1\n"
     ]
    }
   ],
   "source": [
    "def display_numbers():\n",
    "    for num in range(10, 0, -1):\n",
    "        print(num)\n",
    "\n",
    "# Call the display_numbers() function\n",
    "display_numbers()\n"
   ]
  },
  {
   "cell_type": "code",
   "execution_count": 6,
   "id": "9798c016",
   "metadata": {},
   "outputs": [
    {
     "name": "stdout",
     "output_type": "stream",
     "text": [
      "Enter a number: 1\n",
      "Positive number\n"
     ]
    }
   ],
   "source": [
    "def check_number():\n",
    "    number = float(input(\"Enter a number: \"))\n",
    "\n",
    "    if number > 0:\n",
    "        print(\"Positive number\")\n",
    "    elif number < 0:\n",
    "        print(\"Negative number\")\n",
    "    else:\n",
    "        print(\"Zero\")\n",
    "\n",
    "# Call the check_number() function\n",
    "check_number()\n"
   ]
  },
  {
   "cell_type": "code",
   "execution_count": 7,
   "id": "7166d475",
   "metadata": {},
   "outputs": [
    {
     "name": "stdout",
     "output_type": "stream",
     "text": [
      "Enter a number: 10\n",
      "True\n"
     ]
    }
   ],
   "source": [
    "def is_divisible_by_five(number):\n",
    "    if number % 5 == 0:\n",
    "        return True\n",
    "    else:\n",
    "        return False\n",
    "\n",
    "# Get input from the user\n",
    "num = int(input(\"Enter a number: \"))\n",
    "\n",
    "# Call the is_divisible_by_five() function and store the result\n",
    "result = is_divisible_by_five(num)\n",
    "\n",
    "# Display the result\n",
    "print(result)\n"
   ]
  },
  {
   "cell_type": "code",
   "execution_count": 8,
   "id": "8932ed25",
   "metadata": {},
   "outputs": [
    {
     "name": "stdout",
     "output_type": "stream",
     "text": [
      "Enter a number: 11\n",
      "*\n",
      "*\n",
      "*\n",
      "*\n",
      "*\n",
      "*\n",
      "*\n",
      "*\n",
      "*\n",
      "*\n",
      "*\n"
     ]
    }
   ],
   "source": [
    "def print_asterisks():\n",
    "    number = int(input(\"Enter a number: \"))\n",
    "\n",
    "    for _ in range(number):\n",
    "        print(\"*\")\n",
    "\n",
    "# Call the print_asterisks() function\n",
    "print_asterisks()\n"
   ]
  },
  {
   "cell_type": "code",
   "execution_count": 9,
   "id": "11b7262b",
   "metadata": {},
   "outputs": [
    {
     "name": "stdout",
     "output_type": "stream",
     "text": [
      "0\n",
      "2\n",
      "4\n",
      "6\n",
      "8\n",
      "10\n",
      "12\n",
      "14\n",
      "16\n",
      "18\n"
     ]
    }
   ],
   "source": [
    "def display_even_numbers():\n",
    "    count = 0\n",
    "    num = 0\n",
    "\n",
    "    while count < 10:\n",
    "        if num % 2 == 0:\n",
    "            print(num)\n",
    "            count += 1\n",
    "        num += 1\n",
    "\n",
    "# Call the display_even_numbers() function\n",
    "display_even_numbers()\n"
   ]
  },
  {
   "cell_type": "code",
   "execution_count": 10,
   "id": "f99588ca",
   "metadata": {},
   "outputs": [
    {
     "name": "stdout",
     "output_type": "stream",
     "text": [
      "Enter your name: 4\n",
      "Length of the name is: 1\n"
     ]
    }
   ],
   "source": [
    "def display_name_length():\n",
    "    name = input(\"Enter your name: \")\n",
    "    length = len(name)\n",
    "    print(\"Length of the name is:\", length)\n",
    "\n",
    "# Call the display_name_length() function\n",
    "display_name_length()\n"
   ]
  },
  {
   "cell_type": "code",
   "execution_count": null,
   "id": "592086c4",
   "metadata": {},
   "outputs": [],
   "source": []
  }
 ],
 "metadata": {
  "kernelspec": {
   "display_name": "Python 3 (ipykernel)",
   "language": "python",
   "name": "python3"
  },
  "language_info": {
   "codemirror_mode": {
    "name": "ipython",
    "version": 3
   },
   "file_extension": ".py",
   "mimetype": "text/x-python",
   "name": "python",
   "nbconvert_exporter": "python",
   "pygments_lexer": "ipython3",
   "version": "3.10.9"
  }
 },
 "nbformat": 4,
 "nbformat_minor": 5
}
